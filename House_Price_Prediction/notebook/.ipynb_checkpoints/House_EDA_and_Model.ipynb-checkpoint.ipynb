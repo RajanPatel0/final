{
 "cells": [
  {
   "cell_type": "code",
   "execution_count": null,
   "id": "802da151-3646-4470-b9df-b6a88f07ff5c",
   "metadata": {},
   "outputs": [],
   "source": []
  }
 ],
 "metadata": {
  "kernelspec": {
   "display_name": "",
   "name": ""
  },
  "language_info": {
   "name": ""
  }
 },
 "nbformat": 4,
 "nbformat_minor": 5
}
