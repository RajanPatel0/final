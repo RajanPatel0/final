{
 "cells": [
  {
   "cell_type": "code",
   "execution_count": 9,
   "id": "0b9453de-0cc7-4881-9914-96f5681697c7",
   "metadata": {},
   "outputs": [
    {
     "name": "stdout",
     "output_type": "stream",
     "text": [
      "  CustomerID  Age  Gender          State ServiceType  MonthlyCharges  \\\n",
      "0   CUST1000   56    Male      Karnataka    Postpaid          723.34   \n",
      "1   CUST1001   46  Female    West Bengal    Postpaid         1204.32   \n",
      "2   CUST1002   32  Female      Karnataka    Postpaid          995.45   \n",
      "3   CUST1003   60  Female      Karnataka    Postpaid         1047.00   \n",
      "4   CUST1004   25    Male  Uttar Pradesh     Prepaid          284.37   \n",
      "\n",
      "   TenureMonths  InternetUsageGB  CallDropsPerMonth  ComplaintsLast6Months  \\\n",
      "0            59            57.97                  9                      6   \n",
      "1             3            36.24                 10                      4   \n",
      "2            15            82.44                 16                      1   \n",
      "3            29            82.16                  6                      5   \n",
      "4            53            48.00                 11                      5   \n",
      "\n",
      "  IsActive PaymentMethod Churn  \n",
      "0      Yes          Cash    No  \n",
      "1      Yes   Net Banking   Yes  \n",
      "2       No          Cash   Yes  \n",
      "3      Yes    Debit Card    No  \n",
      "4      Yes    Debit Card   Yes  \n",
      "<class 'pandas.core.frame.DataFrame'>\n",
      "RangeIndex: 1000 entries, 0 to 999\n",
      "Data columns (total 13 columns):\n",
      " #   Column                 Non-Null Count  Dtype  \n",
      "---  ------                 --------------  -----  \n",
      " 0   CustomerID             1000 non-null   object \n",
      " 1   Age                    1000 non-null   int64  \n",
      " 2   Gender                 1000 non-null   object \n",
      " 3   State                  1000 non-null   object \n",
      " 4   ServiceType            1000 non-null   object \n",
      " 5   MonthlyCharges         1000 non-null   float64\n",
      " 6   TenureMonths           1000 non-null   int64  \n",
      " 7   InternetUsageGB        1000 non-null   float64\n",
      " 8   CallDropsPerMonth      1000 non-null   int64  \n",
      " 9   ComplaintsLast6Months  1000 non-null   int64  \n",
      " 10  IsActive               1000 non-null   object \n",
      " 11  PaymentMethod          1000 non-null   object \n",
      " 12  Churn                  1000 non-null   object \n",
      "dtypes: float64(2), int64(4), object(7)\n",
      "memory usage: 101.7+ KB\n",
      "None\n"
     ]
    }
   ],
   "source": [
    "#Load & Explore Data Set\n",
    "import pandas as pd\n",
    "import os\n",
    "import joblib\n",
    "\n",
    "# Define path to backend folder\n",
    "backend_folder = \"Customer_Churn_Prediction/backend\"\n",
    "os.makedirs(backend_folder, exist_ok=True)\n",
    "\n",
    "df=pd.read_csv(\"../data/Customer_Churn.csv\")\n",
    "\n",
    "df.head()\n",
    "print(df.head())\n",
    "print(df.info())"
   ]
  },
  {
   "cell_type": "code",
   "execution_count": 10,
   "id": "f2423dd5-8f4e-4980-8c40-af3601da9d45",
   "metadata": {},
   "outputs": [
    {
     "name": "stdout",
     "output_type": "stream",
     "text": [
      "Accuracy: 0.81\n",
      "              precision    recall  f1-score   support\n",
      "\n",
      "           0       0.82      0.98      0.90       165\n",
      "           1       0.00      0.00      0.00        35\n",
      "\n",
      "    accuracy                           0.81       200\n",
      "   macro avg       0.41      0.49      0.45       200\n",
      "weighted avg       0.68      0.81      0.74       200\n",
      "\n",
      "Model and encoders saved to existing backend folder ✅\n"
     ]
    }
   ],
   "source": [
    "from sklearn.model_selection import train_test_split\n",
    "from sklearn.preprocessing import LabelEncoder\n",
    "from sklearn.ensemble import RandomForestClassifier\n",
    "from sklearn.metrics import classification_report, accuracy_score\n",
    "import joblib\n",
    "\n",
    "\n",
    "# Encode categorical features\n",
    "label_encoders = {}\n",
    "for column in df.select_dtypes(include=['object']).columns:\n",
    "    if column != 'CustomerID':\n",
    "        le = LabelEncoder()\n",
    "        df[column] = le.fit_transform(df[column])\n",
    "        label_encoders[column] = le\n",
    "\n",
    "# Features & Target\n",
    "X = df.drop(['CustomerID', 'Churn'], axis=1)\n",
    "y = df['Churn']\n",
    "\n",
    "# Train/Test Split\n",
    "X_train, X_test, y_train, y_test = train_test_split(X, y, test_size=0.2, random_state=42)\n",
    "\n",
    "# Model\n",
    "model = RandomForestClassifier(n_estimators=100, random_state=42)\n",
    "model.fit(X_train, y_train)\n",
    "\n",
    "# Evaluation\n",
    "y_pred = model.predict(X_test)\n",
    "print(\"Accuracy:\", accuracy_score(y_test, y_pred))\n",
    "print(classification_report(y_test, y_pred))\n",
    "\n",
    "# Define correct backend path (relative to notebook)\n",
    "backend_dir = \"../backend\"\n",
    "os.makedirs(backend_dir, exist_ok=True)\n",
    "\n",
    "# Save model\n",
    "joblib.dump(model, os.path.join(backend_dir, \"customer_churn_model.pkl\"))\n",
    "\n",
    "# Save label encoders\n",
    "joblib.dump(label_encoders, os.path.join(backend_dir, \"label_encoders.pkl\"))\n",
    "\n",
    "# Optional: Save column names for frontend dynamic form generation\n",
    "with open(os.path.join(backend_dir, \"input_columns.json\"), \"w\") as f:\n",
    "    json.dump({\"columns\": list(X.columns)}, f)\n",
    "\n",
    "print(\"Model and encoders saved to existing backend folder ✅\")"
   ]
  },
  {
   "cell_type": "code",
   "execution_count": null,
   "id": "bdf994f6-ab74-43f7-bc6f-033731f571eb",
   "metadata": {},
   "outputs": [],
   "source": []
  }
 ],
 "metadata": {
  "kernelspec": {
   "display_name": "Python [conda env:base] *",
   "language": "python",
   "name": "conda-base-py"
  },
  "language_info": {
   "codemirror_mode": {
    "name": "ipython",
    "version": 3
   },
   "file_extension": ".py",
   "mimetype": "text/x-python",
   "name": "python",
   "nbconvert_exporter": "python",
   "pygments_lexer": "ipython3",
   "version": "3.12.7"
  }
 },
 "nbformat": 4,
 "nbformat_minor": 5
}
